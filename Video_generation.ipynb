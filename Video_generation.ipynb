{
  "nbformat": 4,
  "nbformat_minor": 0,
  "metadata": {
    "colab": {
      "provenance": [],
      "authorship_tag": "ABX9TyPun1of3MdNUQPO0k+6m8GK",
      "include_colab_link": true
    },
    "kernelspec": {
      "name": "python3",
      "display_name": "Python 3"
    },
    "language_info": {
      "name": "python"
    }
  },
  "cells": [
    {
      "cell_type": "markdown",
      "metadata": {
        "id": "view-in-github",
        "colab_type": "text"
      },
      "source": [
        "<a href=\"https://colab.research.google.com/github/on-vladislav/Video_generation/blob/main/Video_generation.ipynb\" target=\"_parent\"><img src=\"https://colab.research.google.com/assets/colab-badge.svg\" alt=\"Open In Colab\"/></a>"
      ]
    },
    {
      "cell_type": "markdown",
      "source": [
        "Библиотеки"
      ],
      "metadata": {
        "id": "LZrGsLCyRssY"
      }
    },
    {
      "cell_type": "code",
      "execution_count": null,
      "metadata": {
        "colab": {
          "base_uri": "https://localhost:8080/"
        },
        "id": "5E37mmk6NWyy",
        "outputId": "fec9a063-5289-4e47-ec7e-118bb4cea7af"
      },
      "outputs": [
        {
          "output_type": "stream",
          "name": "stdout",
          "text": [
            "Requirement already satisfied: requests in /usr/local/lib/python3.12/dist-packages (2.32.4)\n",
            "Requirement already satisfied: charset_normalizer<4,>=2 in /usr/local/lib/python3.12/dist-packages (from requests) (3.4.3)\n",
            "Requirement already satisfied: idna<4,>=2.5 in /usr/local/lib/python3.12/dist-packages (from requests) (3.10)\n",
            "Requirement already satisfied: urllib3<3,>=1.21.1 in /usr/local/lib/python3.12/dist-packages (from requests) (2.5.0)\n",
            "Requirement already satisfied: certifi>=2017.4.17 in /usr/local/lib/python3.12/dist-packages (from requests) (2025.8.3)\n",
            "Requirement already satisfied: moviepy in /usr/local/lib/python3.12/dist-packages (1.0.3)\n",
            "Requirement already satisfied: decorator<5.0,>=4.0.2 in /usr/local/lib/python3.12/dist-packages (from moviepy) (4.4.2)\n",
            "Requirement already satisfied: tqdm<5.0,>=4.11.2 in /usr/local/lib/python3.12/dist-packages (from moviepy) (4.67.1)\n",
            "Requirement already satisfied: requests<3.0,>=2.8.1 in /usr/local/lib/python3.12/dist-packages (from moviepy) (2.32.4)\n",
            "Requirement already satisfied: proglog<=1.0.0 in /usr/local/lib/python3.12/dist-packages (from moviepy) (0.1.12)\n",
            "Requirement already satisfied: numpy>=1.17.3 in /usr/local/lib/python3.12/dist-packages (from moviepy) (2.0.2)\n",
            "Requirement already satisfied: imageio<3.0,>=2.5 in /usr/local/lib/python3.12/dist-packages (from moviepy) (2.37.0)\n",
            "Requirement already satisfied: imageio-ffmpeg>=0.2.0 in /usr/local/lib/python3.12/dist-packages (from moviepy) (0.6.0)\n",
            "Requirement already satisfied: pillow>=8.3.2 in /usr/local/lib/python3.12/dist-packages (from imageio<3.0,>=2.5->moviepy) (11.3.0)\n",
            "Requirement already satisfied: charset_normalizer<4,>=2 in /usr/local/lib/python3.12/dist-packages (from requests<3.0,>=2.8.1->moviepy) (3.4.3)\n",
            "Requirement already satisfied: idna<4,>=2.5 in /usr/local/lib/python3.12/dist-packages (from requests<3.0,>=2.8.1->moviepy) (3.10)\n",
            "Requirement already satisfied: urllib3<3,>=1.21.1 in /usr/local/lib/python3.12/dist-packages (from requests<3.0,>=2.8.1->moviepy) (2.5.0)\n",
            "Requirement already satisfied: certifi>=2017.4.17 in /usr/local/lib/python3.12/dist-packages (from requests<3.0,>=2.8.1->moviepy) (2025.8.3)\n"
          ]
        }
      ],
      "source": [
        "!pip install requests\n",
        "!pip install moviepy"
      ]
    },
    {
      "cell_type": "code",
      "source": [
        "# Импорт модулей\n",
        "import requests\n",
        "import os\n",
        "from moviepy.editor import VideoFileClip, CompositeVideoClip, ImageClip"
      ],
      "metadata": {
        "colab": {
          "base_uri": "https://localhost:8080/"
        },
        "id": "cFBF1Ed3SpTZ",
        "outputId": "b65dd9e2-0288-4474-c3cd-efdb37c9d5b7"
      },
      "execution_count": null,
      "outputs": [
        {
          "output_type": "stream",
          "name": "stderr",
          "text": [
            "/usr/local/lib/python3.12/dist-packages/moviepy/config_defaults.py:47: SyntaxWarning: invalid escape sequence '\\P'\n",
            "  IMAGEMAGICK_BINARY = r\"C:\\Program Files\\ImageMagick-6.8.8-Q16\\magick.exe\"\n",
            "/usr/local/lib/python3.12/dist-packages/moviepy/video/io/ffmpeg_reader.py:294: SyntaxWarning: invalid escape sequence '\\d'\n",
            "  lines_video = [l for l in lines if ' Video: ' in l and re.search('\\d+x\\d+', l)]\n",
            "/usr/local/lib/python3.12/dist-packages/moviepy/video/io/ffmpeg_reader.py:367: SyntaxWarning: invalid escape sequence '\\d'\n",
            "  rotation_lines = [l for l in lines if 'rotate          :' in l and re.search('\\d+$', l)]\n",
            "/usr/local/lib/python3.12/dist-packages/moviepy/video/io/ffmpeg_reader.py:370: SyntaxWarning: invalid escape sequence '\\d'\n",
            "  match = re.search('\\d+$', rotation_line)\n",
            "WARNING:py.warnings:/usr/local/lib/python3.12/dist-packages/moviepy/video/io/sliders.py:61: SyntaxWarning: \"is\" with 'str' literal. Did you mean \"==\"?\n",
            "  if event.key is 'enter':\n",
            "\n"
          ]
        }
      ]
    },
    {
      "cell_type": "markdown",
      "source": [
        "Код"
      ],
      "metadata": {
        "id": "lb4JS6rUUWpC"
      }
    },
    {
      "cell_type": "code",
      "source": [
        "from google.colab import userdata\n",
        "my_secret_key = userdata.get('PixabayAPI')\n"
      ],
      "metadata": {
        "collapsed": true,
        "id": "l4VKZkeSVRFF"
      },
      "execution_count": null,
      "outputs": []
    },
    {
      "cell_type": "code",
      "source": [
        "# Настройки\n",
        "#PIXABAY_API_KEY = my_secret_key  # Замените на ваш API ключ\n",
        "\n",
        "search_query = 'Data Scientist'  # Ваш поисковый запрос\n",
        "per_page = 3  # Количество видео для загрузки\n",
        "\n",
        "logo_path = '/content/logo.png'  # Путь к вашему логотипу\n",
        "\n",
        "# Функции\n",
        "def download_pixabay_videos(query, per_page=3):\n",
        "    url = 'https://pixabay.com/api/videos/'\n",
        "\n",
        "    params = {\n",
        "        'key': my_secret_key,\n",
        "        'q': query,\n",
        "        'per_page': per_page,\n",
        "        'safesearch': 'true'\n",
        "    }\n",
        "\n",
        "    response = requests.get(url, params=params)\n",
        "    if response.status_code == 200:\n",
        "        videos = response.json()['hits']\n",
        "        video_paths = []\n",
        "        for idx, video in enumerate(videos):\n",
        "            # Выбираем видео с наилучшим качеством\n",
        "            video_files = video['videos']\n",
        "            if 'large' in video_files:\n",
        "                video_url = video_files['large']['url']\n",
        "            elif 'medium' in video_files:\n",
        "                video_url = video_files['medium']['url']\n",
        "            else:\n",
        "                video_url = video_files['small']['url']\n",
        "\n",
        "            video_response = requests.get(video_url)\n",
        "            video_filename = f'video_{idx}.mp4'\n",
        "            with open(video_filename, 'wb') as f:\n",
        "                f.write(video_response.content)\n",
        "            video_paths.append(video_filename)\n",
        "        return video_paths\n",
        "    else:\n",
        "        print('Ошибка при запросе к Pixabay API:', response.status_code)\n",
        "        return []\n",
        "\n",
        "def overlay_logo_on_video(video_path, logo_path, output_path):\n",
        "    # Загрузка видео\n",
        "    video_clip = VideoFileClip(video_path)\n",
        "\n",
        "    # Проверка наличия аудио (для избежания предупреждений)\n",
        "    if video_clip.audio is None:\n",
        "        video_clip = video_clip.set_audio(None)\n",
        "\n",
        "    # Загрузка логотипа\n",
        "    logo = (ImageClip(logo_path)\n",
        "            .set_duration(video_clip.duration)\n",
        "            .resize(height=100)  # Измените размер логотипа при необходимости\n",
        "            .margin(right=8, top=8, opacity=0)  # Отступы\n",
        "            .set_pos((\"right\", \"top\")))  # Позиция логотипа\n",
        "\n",
        "    # Наложение логотипа на видео\n",
        "    final_video = CompositeVideoClip([video_clip, logo])\n",
        "\n",
        "    # Сохранение итогового видео\n",
        "    final_video.write_videofile(output_path, codec='libx264', audio_codec='aac')\n",
        "\n",
        "    # Освобождение ресурсов\n",
        "    video_clip.close()\n",
        "    final_video.close()\n",
        "\n",
        "# Основной процесс\n",
        "\n",
        "video_paths = download_pixabay_videos(search_query, per_page)\n",
        "\n",
        "if video_paths:\n",
        "    for video_path in video_paths:\n",
        "        output_path = f'logo_{video_path}'\n",
        "        overlay_logo_on_video(video_path, logo_path, output_path)\n",
        "        print(f'Видео с наложенным логотипом сохранено: {output_path}')\n",
        "else:\n",
        "    print('Не удалось скачать видео.')"
      ],
      "metadata": {
        "colab": {
          "base_uri": "https://localhost:8080/"
        },
        "id": "ZwBb3nBeUZT5",
        "outputId": "c65f9b47-ba72-4cdb-d183-1a762db2241c"
      },
      "execution_count": null,
      "outputs": [
        {
          "output_type": "stream",
          "name": "stdout",
          "text": [
            "Moviepy - Building video logo_video_0.mp4.\n",
            "Moviepy - Writing video logo_video_0.mp4\n",
            "\n"
          ]
        },
        {
          "output_type": "stream",
          "name": "stderr",
          "text": []
        },
        {
          "output_type": "stream",
          "name": "stdout",
          "text": [
            "Moviepy - Done !\n",
            "Moviepy - video ready logo_video_0.mp4\n",
            "Видео с наложенным логотипом сохранено: logo_video_0.mp4\n",
            "Moviepy - Building video logo_video_1.mp4.\n",
            "MoviePy - Writing audio in logo_video_1TEMP_MPY_wvf_snd.mp4\n"
          ]
        },
        {
          "output_type": "stream",
          "name": "stderr",
          "text": []
        },
        {
          "output_type": "stream",
          "name": "stdout",
          "text": [
            "MoviePy - Done.\n",
            "Moviepy - Writing video logo_video_1.mp4\n",
            "\n"
          ]
        },
        {
          "output_type": "stream",
          "name": "stderr",
          "text": [
            "t: 100%|█████████▉| 381/382 [00:56<00:00,  6.67it/s, now=None]WARNING:py.warnings:/usr/local/lib/python3.12/dist-packages/moviepy/video/io/ffmpeg_reader.py:123: UserWarning: Warning: in file video_1.mp4, 6220800 bytes wanted but 0 bytes read,at frame 380/382, at time 15.20/15.25 sec. Using the last valid frame instead.\n",
            "  warnings.warn(\"Warning: in file %s, \"%(self.filename)+\n",
            "\n",
            "t: 100%|██████████| 382/382 [00:56<00:00,  7.04it/s, now=None]WARNING:py.warnings:/usr/local/lib/python3.12/dist-packages/moviepy/video/io/ffmpeg_reader.py:123: UserWarning: Warning: in file video_1.mp4, 6220800 bytes wanted but 0 bytes read,at frame 381/382, at time 15.24/15.25 sec. Using the last valid frame instead.\n",
            "  warnings.warn(\"Warning: in file %s, \"%(self.filename)+\n",
            "\n"
          ]
        },
        {
          "output_type": "stream",
          "name": "stdout",
          "text": [
            "Moviepy - Done !\n",
            "Moviepy - video ready logo_video_1.mp4\n",
            "Видео с наложенным логотипом сохранено: logo_video_1.mp4\n",
            "Moviepy - Building video logo_video_2.mp4.\n",
            "Moviepy - Writing video logo_video_2.mp4\n",
            "\n"
          ]
        },
        {
          "output_type": "stream",
          "name": "stderr",
          "text": []
        },
        {
          "output_type": "stream",
          "name": "stdout",
          "text": [
            "Moviepy - Done !\n",
            "Moviepy - video ready logo_video_2.mp4\n",
            "Видео с наложенным логотипом сохранено: logo_video_2.mp4\n"
          ]
        }
      ]
    },
    {
      "cell_type": "markdown",
      "source": [
        "Совмещение"
      ],
      "metadata": {
        "id": "LerTnbi_esbc"
      }
    },
    {
      "cell_type": "code",
      "source": [
        "# Импорт модулей\n",
        "from moviepy.editor import VideoFileClip, clips_array\n",
        "\n",
        "# Настройки\n",
        "video_paths = ['/content/logo_video_0.mp4', '/content/logo_video_1.mp4', '/content/logo_video_2.mp4']  # Замените на ваши файлы\n",
        "output_path = 'merged_video.mp4'\n",
        "\n",
        "# Загружаем видеофайлы\n",
        "video_clips = [VideoFileClip(video) for video in video_paths]\n",
        "\n",
        "target_size = (640, 360)  # Задайте нужный размер\n",
        "resized_clips = [clip.resize(target_size) for clip in video_clips]\n",
        "\n",
        "# Объединяем видео в один кадр (в ряд)\n",
        "final_clip = clips_array([resized_clips])\n",
        "\n",
        "# Сохраняем итоговое видео\n",
        "final_clip.write_videofile(output_path, codec='libx264', audio_codec='aac')\n",
        "\n",
        "# Освобождаем ресурсы\n",
        "for clip in resized_clips:\n",
        "    clip.close()\n",
        "final_clip.close()\n",
        "\n",
        "print(f'Итоговое видео сохранено как {output_path}')"
      ],
      "metadata": {
        "id": "MdlrmlX7ex2j",
        "colab": {
          "base_uri": "https://localhost:8080/"
        },
        "outputId": "9f492ee1-dc55-42b2-be17-bbf81f374a50"
      },
      "execution_count": null,
      "outputs": [
        {
          "output_type": "stream",
          "name": "stdout",
          "text": [
            "Moviepy - Building video merged_video.mp4.\n",
            "MoviePy - Writing audio in merged_videoTEMP_MPY_wvf_snd.mp4\n"
          ]
        },
        {
          "output_type": "stream",
          "name": "stderr",
          "text": []
        },
        {
          "output_type": "stream",
          "name": "stdout",
          "text": [
            "MoviePy - Done.\n",
            "Moviepy - Writing video merged_video.mp4\n",
            "\n"
          ]
        },
        {
          "output_type": "stream",
          "name": "stderr",
          "text": []
        },
        {
          "output_type": "stream",
          "name": "stdout",
          "text": [
            "Moviepy - Done !\n",
            "Moviepy - video ready merged_video.mp4\n",
            "Итоговое видео сохранено как merged_video.mp4\n"
          ]
        }
      ]
    }
  ]
}